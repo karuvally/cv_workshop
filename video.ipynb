{
 "cells": [
  {
   "cell_type": "code",
   "execution_count": 1,
   "metadata": {},
   "outputs": [],
   "source": [
    "# import the essential stuff\n",
    "import numpy as np\n",
    "import cv2\n",
    "import matplotlib.pyplot as plt\n",
    "from imutils.video import VideoStream\n",
    "from imutils.video import FPS\n",
    "import imutils\n",
    "import time"
   ]
  },
  {
   "cell_type": "code",
   "execution_count": 2,
   "metadata": {},
   "outputs": [],
   "source": [
    "# declare essential variables\n",
    "prototxt_file = \"downloads/MobileNetSSD_deploy.prototxt.txt\"\n",
    "model = \"downloads/MobileNetSSD_deploy.caffemodel\"\n",
    "required_confidence = 0.2"
   ]
  },
  {
   "cell_type": "code",
   "execution_count": 3,
   "metadata": {},
   "outputs": [],
   "source": [
    "# define the labels supported by the model\n",
    "supported_labels = [\"background\", \"aeroplane\", \"bicycle\", \"bird\", \"boat\",\n",
    "                    \"bottle\", \"bus\", \"car\", \"cat\", \"chair\", \"cow\", \"diningtable\",\n",
    "                    \"dog\", \"horse\", \"motorbike\", \"person\", \"pottedplant\", \"sheep\",\n",
    "                    \"sofa\", \"train\", \"tvmonitor\"]"
   ]
  },
  {
   "cell_type": "code",
   "execution_count": 4,
   "metadata": {},
   "outputs": [],
   "source": [
    "# load the model\n",
    "neural_net = cv2.dnn.readNetFromCaffe(prototxt_file, model)"
   ]
  },
  {
   "cell_type": "code",
   "execution_count": 5,
   "metadata": {},
   "outputs": [],
   "source": [
    "# initialize video stream\n",
    "video_stream = VideoStream(src=0).start()\n",
    "time.sleep(2.0)\n",
    "fps = FPS().start()"
   ]
  },
  {
   "cell_type": "code",
   "execution_count": 6,
   "metadata": {},
   "outputs": [
    {
     "name": "stdout",
     "output_type": "stream",
     "text": [
      "('FPS: ', 13.965557138098905)\n"
     ]
    }
   ],
   "source": [
    "# loop over frames\n",
    "while True:\n",
    "    frame = video_stream.read()\n",
    "    frame = imutils.resize(frame, width=400)\n",
    "    \n",
    "    (height, width) = frame.shape[:2]\n",
    "    blob = cv2.dnn.blobFromImage(frame, 0.007843, (300, 300), 127.5)\n",
    "    \n",
    "    neural_net.setInput(blob)\n",
    "    detections = neural_net.forward()\n",
    "    \n",
    "    # show the detections\n",
    "    for i in np.arange(0, detections.shape[2]):\n",
    "        confidence = detections[0, 0, i, 2]\n",
    "    \n",
    "        # collect info about detected objects\n",
    "        if confidence > required_confidence:\n",
    "            object_index = int(detections[0, 0, i, 1])\n",
    "            bounding_box = detections[0, 0, i, 3:7] * np.array([width, height, width, height])\n",
    "            (x, y, box_width, box_height) = bounding_box.astype(\"int\")\n",
    "        \n",
    "            # the labelling stuff\n",
    "            label = \"{}: {:.2f}%\".format(supported_labels[object_index], confidence*100)\n",
    "            cv2.rectangle(frame, (x, y), (box_width, box_height), (0, 255, 0), 2)\n",
    "            cv2.putText(frame, label, (x, y), cv2.FONT_HERSHEY_SIMPLEX, 0.5, (0, 0, 255), 2)\n",
    "    \n",
    "    # show the image\n",
    "    cv2.imshow(\"Frame\", frame)\n",
    "    \n",
    "    # set up the exit key\n",
    "    key = cv2.waitKey(1) & 0xFF\n",
    "    if key == ord(\"q\"):\n",
    "        break\n",
    "        \n",
    "    # update fps counter\n",
    "    fps.update()\n",
    "\n",
    "# if stopped, show FPS info\n",
    "fps.stop()\n",
    "print(\"FPS: \", fps.fps())\n",
    "\n",
    "# kill the video stream\n",
    "video_stream.stop()\n",
    "cv2.destroyAllWindows()"
   ]
  },
  {
   "cell_type": "code",
   "execution_count": null,
   "metadata": {},
   "outputs": [],
   "source": []
  }
 ],
 "metadata": {
  "kernelspec": {
   "display_name": "Python 2",
   "language": "python",
   "name": "python2"
  },
  "language_info": {
   "codemirror_mode": {
    "name": "ipython",
    "version": 2
   },
   "file_extension": ".py",
   "mimetype": "text/x-python",
   "name": "python",
   "nbconvert_exporter": "python",
   "pygments_lexer": "ipython2",
   "version": "2.7.13"
  }
 },
 "nbformat": 4,
 "nbformat_minor": 2
}
